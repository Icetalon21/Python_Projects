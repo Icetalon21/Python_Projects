{
  "nbformat": 4,
  "nbformat_minor": 0,
  "metadata": {
    "colab": {
      "name": "Copy of MidTerm Practice Activity.ipynb",
      "provenance": [],
      "collapsed_sections": [
        "fwNho30LR79A",
        "XMOWZgdfSQiV",
        "atGw4NsQSgEV",
        "MgCIBGV-Smk-"
      ],
      "toc_visible": true,
      "include_colab_link": true
    },
    "kernelspec": {
      "name": "python3",
      "display_name": "Python 3"
    }
  },
  "cells": [
    {
      "cell_type": "markdown",
      "metadata": {
        "id": "view-in-github",
        "colab_type": "text"
      },
      "source": [
        "<a href=\"https://colab.research.google.com/github/Icetalon21/Python_Projects/blob/master/Copy_of_MidTerm_Practice_Activity.ipynb\" target=\"_parent\"><img src=\"https://colab.research.google.com/assets/colab-badge.svg\" alt=\"Open In Colab\"/></a>"
      ]
    },
    {
      "cell_type": "markdown",
      "metadata": {
        "id": "yXb3VXKaIMx7",
        "colab_type": "text"
      },
      "source": [
        "#Mid-term Practice Activity: Exploratory Data Analysis with Python\n",
        "This is a practice activity for those in need of further practtice for mid-term exam of AIMS 4798- Machine Learning with Python. It involves ingesting, cleaning, preparing, exploring, and visualizing data using Python data analysis libraries. \n",
        "\n",
        "## Case Background\n",
        "Here we have the U.S. Census 2017 dataset. The dataset includes 37 columns and more than 3K rows. Each row represent demographic data for one county in the United States. You are expected to write the code import the data and do some exploratory data analysis as requested in the instructions.\n",
        "\n",
        "## Data Description\n",
        "The dataset is from [Kaggle website](https://www.kaggle.com/muonneutrino/us-census-demographic-data). You may download [the dataset here](https://drive.google.com/file/d/17x2GbLlwBMnHSBHE165tbsUNbjHtoJ4B/view?usp=sharing). It contains the following fields:\n",
        "\n",
        "* **Countyid:** unique identification number for each county or county equivalent\n",
        "* **State:** State, DC, or Puerto Rico\n",
        "* **County:** County or county equivalent\n",
        "* **TotalPop:** Total population\n",
        "* **Men:** Number of men\n",
        "* **Women:** Number of women\n",
        "* **Hispanic:** % of population that is Hispanic/Latino\n",
        "* **White:** % of population that is white\n",
        "* **Black:** % of population that is black\n",
        "* **Native:** % of population that is Native American or Native Alaskan\n",
        "* **Asian:** % of population that is Asian\n",
        "* **Pacific:** % of population that is Native Hawaiian or Pacific Islander\n",
        "* **Citizen:** Number of citizens\n",
        "* **Income:** Median household income in USD \n",
        "* **Income:** ErrMedian household income error in USD\n",
        "* **IncomePerCap:** Income per capita in USD\n",
        "* **IncomePerCapErr:** Income per capita error in USD\n",
        "* **Poverty:** % under poverty level\n",
        "* **ChildPoverty:** % of children under poverty level\n",
        "* **Professional:** % employed in management, business, science, and arts\n",
        "* **Service:** % employed in service jobs\n",
        "* **Office:** % employed in sales and office jobs\n",
        "* **Construction:** % employed in natural resources, construction, and maintenance\n",
        "* **Production:** % employed in production, transportation, and material movement\n",
        "* **Drive:** % commuting alone in a car, van, or truck\n",
        "* **Carpool:** % carpooling in a car, van, or truck\n",
        "* **Transit:** % commuting on public transportation\n",
        "* **Walk:** % walking to work\n",
        "* **OtherTransp:** % commuting via other means\n",
        "* **WorkAtHome:** % working at home\n",
        "* **MeanCommute:** Mean commute time (minutes)\n",
        "* **Employed:** Number of employed (16+)\n",
        "* **PrivateWork:** % employed in private industry\n",
        "* **PublicWork:** % employed in public jobs\n",
        "* **SelfEmployed:** % self-employed\n",
        "* **FamilyWork:** % in unpaid family work\n",
        "* **Unemployment:** Unemployment rate (%)"
      ]
    },
    {
      "cell_type": "markdown",
      "metadata": {
        "id": "MgyJSlVrn17M",
        "colab_type": "text"
      },
      "source": [
        "## Problem Steps\n",
        "Please go through the following problems and produce the code that answers the problem. **Make sure you use exectly ONE CELL to answer each question. Properly comment your code so it is easy to understand what it does.** "
      ]
    },
    {
      "cell_type": "markdown",
      "metadata": {
        "id": "fwNho30LR79A",
        "colab_type": "text"
      },
      "source": [
        "##Data Ingestion & Cleaning\n"
      ]
    },
    {
      "cell_type": "markdown",
      "metadata": {
        "id": "y_qOVKVI1Zlz",
        "colab_type": "text"
      },
      "source": [
        "1. Read the dataset into a dataframe. Then check out the first few rows and summary statistics of the dataset."
      ]
    },
    {
      "cell_type": "markdown",
      "metadata": {
        "id": "NVpvAF_dUyxf",
        "colab_type": "text"
      },
      "source": [
        "2. Remove the duplicate records if there is any. Make sure you print out the number of records in the dataset before and after duplicate removal."
      ]
    },
    {
      "cell_type": "markdown",
      "metadata": {
        "id": "E7vWlnck-POA",
        "colab_type": "text"
      },
      "source": [
        "3. Drop the two columns of IncomeErr and IncomePerCapErr. Toy should drop both at once rather than one by one."
      ]
    },
    {
      "cell_type": "markdown",
      "metadata": {
        "id": "345zoB9EBEOO",
        "colab_type": "text"
      },
      "source": [
        "4. Drop the records for Puerto Rico which is a U.S. territory rather than a state."
      ]
    },
    {
      "cell_type": "markdown",
      "metadata": {
        "id": "XMOWZgdfSQiV",
        "colab_type": "text"
      },
      "source": [
        "## Data Preparation"
      ]
    },
    {
      "cell_type": "markdown",
      "metadata": {
        "id": "po6Sywl7-Jgo",
        "colab_type": "text"
      },
      "source": [
        "5. Add a new column called 'unemployed' that is VotingAgeCitizen * (Unemployment/100)."
      ]
    },
    {
      "cell_type": "markdown",
      "metadata": {
        "id": "hAjBu0vUVVAg",
        "colab_type": "text"
      },
      "source": [
        "6. Add another column that replaces the state names with their abriviations (Alabama: AL). You should replace the state names all at once, rather than repeating your code for each state. you can copy the list of state abbreviations [from here](https://www.50states.com/abbreviations.htm).\n"
      ]
    },
    {
      "cell_type": "markdown",
      "metadata": {
        "id": "atGw4NsQSgEV",
        "colab_type": "text"
      },
      "source": [
        "##Data Exploration"
      ]
    },
    {
      "cell_type": "markdown",
      "metadata": {
        "id": "BJ6cTDc_M3Um",
        "colab_type": "text"
      },
      "source": [
        "7. Calculate the number of unique states included in the dataset.\n"
      ]
    },
    {
      "cell_type": "markdown",
      "metadata": {
        "id": "j0ZOW8gHVOqD",
        "colab_type": "text"
      },
      "source": [
        "8. Calculate the number of counties for each state.\n"
      ]
    },
    {
      "cell_type": "markdown",
      "metadata": {
        "id": "QHHWEBJmn9XS",
        "colab_type": "text"
      },
      "source": [
        "9. Slice the data to display the states with more than 100 counties."
      ]
    },
    {
      "cell_type": "markdown",
      "metadata": {
        "id": "LVLR6FMgVRkj",
        "colab_type": "text"
      },
      "source": [
        "10. Caculate the total population, men, and women for each state. Sort the states based on their total population from high to low (descending)."
      ]
    },
    {
      "cell_type": "markdown",
      "metadata": {
        "id": "vKZhuGpfVe2H",
        "colab_type": "text"
      },
      "source": [
        "11. Slice the data to display the U.S. mainland counties with unemployment ratio (Unemployment column) of over 20%. It means it should exclude counties from Hawaii, and Alaska. The output should display only three columns of State, County, and Poverty."
      ]
    },
    {
      "cell_type": "markdown",
      "metadata": {
        "id": "I0SWk0tHVh0T",
        "colab_type": "text"
      },
      "source": [
        "12. Display the top 5 richest and 5 poorest counties in the nation based on income per capita? Print out the name of these counties, their state, total population, hispanic, white, and black ratios.\n"
      ]
    },
    {
      "cell_type": "markdown",
      "metadata": {
        "id": "OjN6ZD7NcoUI",
        "colab_type": "text"
      },
      "source": [
        "13. Create a function that receives a state and returns the summary statistics of the total population, income per capita, and poverty for each county of that state. The summary statistics would be calculated using the .describe() function. \n",
        "Use your function to print the statistics for California."
      ]
    },
    {
      "cell_type": "markdown",
      "metadata": {
        "id": "CHBTZrJZVn-n",
        "colab_type": "text"
      },
      "source": [
        "14. Create a function that receives the name of a state and returns top three counties in that state with highest number of unemployed people (unemployed column). Use the function to print the results for California."
      ]
    },
    {
      "cell_type": "markdown",
      "metadata": {
        "id": "KDKp5-osVuR_",
        "colab_type": "text"
      },
      "source": [
        "15. Create a function to receives a list of State values (a list that includes the name of states) and produce a dataframe that includes the average poverty (Poverty column) of counties in each of those states. It means the output should display the name of each state and the average poverty for each."
      ]
    },
    {
      "cell_type": "markdown",
      "metadata": {
        "id": "VPW3SE_WVkAj",
        "colab_type": "text"
      },
      "source": [
        "16. Calculate and display the correlation matrix that displays two-by-two correlatin between Poverty, Hispanic, White, Black, Native, and Asian."
      ]
    },
    {
      "cell_type": "markdown",
      "metadata": {
        "id": "MgCIBGV-Smk-",
        "colab_type": "text"
      },
      "source": [
        "##Data Visualization"
      ]
    },
    {
      "cell_type": "markdown",
      "metadata": {
        "id": "sP6skw5PcMxH",
        "colab_type": "text"
      },
      "source": [
        "17. Use the function you created in step 15 to create a line chart that displays the average poverty for the states of Alabama, California, Georgia, and North Carolina. Properly title the plot and label the axes. Set the marker to a circle and the line style to dashed. The line should have a green color."
      ]
    },
    {
      "cell_type": "markdown",
      "metadata": {
        "id": "rKp7UzT0ebEX",
        "colab_type": "text"
      },
      "source": [
        "18. Create an scatter plot that displays the White ratio (White column) of all U.S. counties against their Poverty ratio (Poverty column). Set the marker to a dot.\n",
        "19. Add anotehr scatter plot on the previous plot to display the Black ratio (Black column) of all U.S. counties against their Poverty ratio (Poverty column). Set the marker to a dot. Add proper title and axis labels. Make sure you add label for Black and White datapoint and display the plot legend."
      ]
    }
  ]
}